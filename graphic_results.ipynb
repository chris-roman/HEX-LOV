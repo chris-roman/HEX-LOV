{
 "cells": [
  {
   "cell_type": "code",
   "execution_count": 1,
   "metadata": {},
   "outputs": [],
   "source": [
    "import matplotlib.pyplot as plt\n",
    "import numpy"
   ]
  },
  {
   "cell_type": "code",
   "execution_count": null,
   "metadata": {},
   "outputs": [],
   "source": [
    "\n",
    "\"\"\"\n",
    "Configurar parametros de visualización y desplegar grífica basada en los datos recolectados, usando \"matplotlib\"\n",
    "\"\"\"\n",
    "# Configurar color de background y tamaños de fuentes\n",
    "plt.rcParams.update({'axes.facecolor': \"#edf1f7\", 'font.size': 16})\n",
    "# Configurar tamaño de figura a desplegar\n",
    "plt.figure(5, figsize=(20, 15))\n",
    "# Insertar cada lista correspondiente a la clase de usuario.\n",
    "for index, user in enumerate(active_users_array):\n",
    "    plt.plot(global_date_string_list, user, label=\"Active: User_\" + str(active_users[\"user_id\"].loc[index]), linestyle=\"dotted\")\n",
    "for index, user in enumerate(inactive_users_array):\n",
    "    plt.plot(global_date_string_list, user, label=\"Inactive: User_\" + str(inactive_users[\"user_id\"].loc[index]), linestyle=\"-\")\n",
    "# Configurar nombre de labels en el eje X, amén del resto de los labels generales\n",
    "plt.xticks(global_date_string_list, [(index + 1) for index in range(len(global_date_string_list))] )\n",
    "plt.legend()\n",
    "plt.grid(axis='y')\n",
    "plt.title(\"Actividades de usuarios ACTIVOS y NO-ACTIVOS durante el mes de Marzo\")\n",
    "plt.xlabel(\"Días del mes\")\n",
    "plt.ylabel(\"Cuentas de actividades\")\n",
    "plt.show()\n",
    "plt.clf()"
   ]
  }
 ],
 "metadata": {
  "kernelspec": {
   "display_name": "Python 3.9.2 ('.venv': pipenv)",
   "language": "python",
   "name": "python3"
  },
  "language_info": {
   "codemirror_mode": {
    "name": "ipython",
    "version": 3
   },
   "file_extension": ".py",
   "mimetype": "text/x-python",
   "name": "python",
   "nbconvert_exporter": "python",
   "pygments_lexer": "ipython3",
   "version": "3.9.2"
  },
  "orig_nbformat": 4,
  "vscode": {
   "interpreter": {
    "hash": "5f028b014916bcf634124fe73e401acbc58619e2c07a01bcf8a3e781541763e3"
   }
  }
 },
 "nbformat": 4,
 "nbformat_minor": 2
}
